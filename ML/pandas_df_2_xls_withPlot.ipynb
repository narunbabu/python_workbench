{
 "cells": [
  {
   "cell_type": "code",
   "execution_count": null,
   "metadata": {
    "collapsed": true
   },
   "outputs": [],
   "source": [
    "%matplotlib inline"
   ]
  },
  {
   "cell_type": "code",
   "execution_count": 1,
   "metadata": {
    "collapsed": true
   },
   "outputs": [],
   "source": [
    "##############################################################################\n",
    "#\n",
    "# An example of creating a chart with Pandas and XlsxWriter.\n",
    "#\n",
    "# Copyright 2013, John McNamara, jmcnamara@cpan.org\n",
    "#\n",
    "\n",
    "import pandas as pd\n",
    "\n",
    "# Some sample data to plot.\n",
    "list_data = [10, 20, 30, 20, 15, 30, 45]\n",
    "\n",
    "# Create a Pandas dataframe from the data.\n",
    "df = pd.DataFrame(list_data)\n",
    "\n",
    "# Create a Pandas Excel writer using XlsxWriter as the engine.\n",
    "excel_file = 'D:/New Arun/python_wb/column.xlsx'\n",
    "sheet_name = 'Sheet1'\n",
    "\n",
    "writer = pd.ExcelWriter(excel_file, engine='xlsxwriter')\n",
    "df.to_excel(writer, sheet_name=sheet_name)\n",
    "\n",
    "# Access the XlsxWriter workbook and worksheet objects from the dataframe.\n",
    "# This is equivalent to the following using XlsxWriter on its own:\n",
    "#\n",
    "#    workbook = xlsxwriter.Workbook('filename.xlsx')\n",
    "#    worksheet = workbook.add_worksheet()\n",
    "workbook = writer.book\n",
    "worksheet = writer.sheets[sheet_name]\n",
    "\n",
    "# Create a chart object.\n",
    "chart = workbook.add_chart({'type': 'column'})\n",
    "\n",
    "# Configure the series of the chart from the dataframe data.\n",
    "chart.add_series({\n",
    "    'values':     '=Sheet1!$B$2:$B$8',\n",
    "    'gap':        2,\n",
    "})\n",
    "\n",
    "# You can also use array notation to define the chart values.\n",
    "#    chart.add_series({\n",
    "#        'values':     ['Sheet1', 1, 1, 7, 1],\n",
    "#        'gap':        2,\n",
    "#    })\n",
    "\n",
    "# Configure the chart axes.\n",
    "chart.set_y_axis({'major_gridlines': {'visible': False}})\n",
    "\n",
    "# Turn off chart legend. It is on by default in Excel.\n",
    "chart.set_legend({'position': 'none'})\n",
    "\n",
    "# Insert the chart into the worksheet.\n",
    "worksheet.insert_chart('D2', chart)\n",
    "\n",
    "# Close the Pandas Excel writer and output the Excel file.\n",
    "writer.save()"
   ]
  }
 ],
 "metadata": {
  "kernelspec": {
   "display_name": "Python 3",
   "language": "python",
   "name": "python3"
  },
  "language_info": {
   "codemirror_mode": {
    "name": "ipython",
    "version": 3
   },
   "file_extension": ".py",
   "mimetype": "text/x-python",
   "name": "python",
   "nbconvert_exporter": "python",
   "pygments_lexer": "ipython3",
   "version": "3.6.1"
  }
 },
 "nbformat": 4,
 "nbformat_minor": 2
}
